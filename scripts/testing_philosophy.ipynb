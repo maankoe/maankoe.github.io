{
 "cells": [
  {
   "cell_type": "code",
   "execution_count": 3,
   "id": "ed467bae",
   "metadata": {},
   "outputs": [],
   "source": [
    "import pandas as pd\n",
    "import matplotlib.pyplot as plt"
   ]
  },
  {
   "cell_type": "code",
   "execution_count": 6,
   "id": "bbe2807a",
   "metadata": {},
   "outputs": [
    {
     "data": {
      "text/html": [
       "<div>\n",
       "<style scoped>\n",
       "    .dataframe tbody tr th:only-of-type {\n",
       "        vertical-align: middle;\n",
       "    }\n",
       "\n",
       "    .dataframe tbody tr th {\n",
       "        vertical-align: top;\n",
       "    }\n",
       "\n",
       "    .dataframe thead th {\n",
       "        text-align: right;\n",
       "    }\n",
       "</style>\n",
       "<table border=\"1\" class=\"dataframe\">\n",
       "  <thead>\n",
       "    <tr style=\"text-align: right;\">\n",
       "      <th></th>\n",
       "      <th>Unit</th>\n",
       "      <th>Integration</th>\n",
       "      <th>End-to-end</th>\n",
       "    </tr>\n",
       "  </thead>\n",
       "  <tbody>\n",
       "    <tr>\n",
       "      <th>Localisation</th>\n",
       "      <td>1.0</td>\n",
       "      <td>0.2</td>\n",
       "      <td>0.0</td>\n",
       "    </tr>\n",
       "    <tr>\n",
       "      <th>Coverage</th>\n",
       "      <td>0.1</td>\n",
       "      <td>0.5</td>\n",
       "      <td>0.8</td>\n",
       "    </tr>\n",
       "    <tr>\n",
       "      <th>Speed</th>\n",
       "      <td>1.0</td>\n",
       "      <td>0.5</td>\n",
       "      <td>0.1</td>\n",
       "    </tr>\n",
       "    <tr>\n",
       "      <th>Stability</th>\n",
       "      <td>0.1</td>\n",
       "      <td>0.5</td>\n",
       "      <td>0.9</td>\n",
       "    </tr>\n",
       "  </tbody>\n",
       "</table>\n",
       "</div>"
      ],
      "text/plain": [
       "              Unit  Integration  End-to-end\n",
       "Localisation   1.0          0.2         0.0\n",
       "Coverage       0.1          0.5         0.8\n",
       "Speed          1.0          0.5         0.1\n",
       "Stability      0.1          0.5         0.9"
      ]
     },
     "execution_count": 6,
     "metadata": {},
     "output_type": "execute_result"
    }
   ],
   "source": [
    "LOCALISATION = \"Localisation\"\n",
    "COVERAGE = \"Coverage\"\n",
    "SPEED = \"Speed\"\n",
    "STABILITY = \"Stability\"\n",
    "\n",
    "UNIT = \"Unit\"\n",
    "INTEGRATION = \"Integration\"\n",
    "E2E = \"End-to-end\"\n",
    "SMOKE = \"Smoke\"\n",
    "\n",
    "data = {\n",
    "    UNIT: {\n",
    "        LOCALISATION: 1,\n",
    "        COVERAGE: 0.1,\n",
    "        SPEED: 1,\n",
    "        STABILITY: 0.1\n",
    "    },\n",
    "    INTEGRATION: {\n",
    "        LOCALISATION: 0.2,\n",
    "        COVERAGE: 0.5,\n",
    "        SPEED: 0.5,\n",
    "        STABILITY: 0.5\n",
    "    },\n",
    "    E2E: {\n",
    "        LOCALISATION: 0,\n",
    "        COVERAGE: 0.8,\n",
    "        SPEED: 0.1,\n",
    "        STABILITY: 0.9\n",
    "    }\n",
    "}\n",
    "\n",
    "df = pd.DataFrame.from_dict(data)\n",
    "df"
   ]
  }
 ],
 "metadata": {
  "kernelspec": {
   "display_name": "Python 3 (ipykernel)",
   "language": "python",
   "name": "python3"
  },
  "language_info": {
   "codemirror_mode": {
    "name": "ipython",
    "version": 3
   },
   "file_extension": ".py",
   "mimetype": "text/x-python",
   "name": "python",
   "nbconvert_exporter": "python",
   "pygments_lexer": "ipython3",
   "version": "3.11.4"
  }
 },
 "nbformat": 4,
 "nbformat_minor": 5
}
